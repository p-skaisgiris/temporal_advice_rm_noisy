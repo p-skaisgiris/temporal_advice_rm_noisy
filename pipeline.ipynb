{
  "nbformat": 4,
  "nbformat_minor": 0,
  "metadata": {
    "colab": {
      "provenance": []
    },
    "kernelspec": {
      "name": "python3",
      "display_name": "Python 3"
    },
    "language_info": {
      "name": "python"
    }
  },
  "cells": [
    {
      "cell_type": "code",
      "source": [
        "!git clone https://github.com/p-skaisgiris/temporal_advice_rm_noisy.git > /dev/null\n",
        "!pip install -r temporal_advice_rm_noisy/requirements.txt > /dev/null"
      ],
      "metadata": {
        "id": "DrHoJDdE1jaB"
      },
      "execution_count": null,
      "outputs": []
    },
    {
      "cell_type": "code",
      "source": [
        "%cd temporal_advice_rm_noisy/\n",
        "!echo $PYTHONPATH\n",
        "%env PYTHONPATH=\"$/env/python:src:src/envs\"\n",
        "!echo $PYTHONPATH"
      ],
      "metadata": {
        "id": "YCzqDxnvNUHj"
      },
      "execution_count": null,
      "outputs": []
    },
    {
      "cell_type": "code",
      "source": [
        "# Collect training data for the detector\n",
        "!python scripts/collect_offline_data.py --env=Kitchen-v2 --seed=111 --episodes=2000\n",
        "%mv collect_Kitchen-v2.pt train_Kitchen-v2.pt\n",
        "!python scripts/collect_offline_data.py --env=Kitchen-v2 --seed=222 --episodes=100\n",
        "%mv collect_Kitchen-v2.pt test_Kitchen-v2.pt"
      ],
      "metadata": {
        "id": "yBxrQ-qiG2Db"
      },
      "execution_count": null,
      "outputs": []
    },
    {
      "cell_type": "code",
      "source": [
        "# Pre-train detector\n",
        "!python scripts/pretrain_detector.py --env=Kitchen-v2 --train-data-path=train_Kitchen-v2.pt --test-data-path=test_Kitchen-v2.pt --use-mem"
      ],
      "metadata": {
        "id": "3Fbi0ippJ5wk"
      },
      "execution_count": null,
      "outputs": []
    },
    {
      "cell_type": "code",
      "execution_count": null,
      "metadata": {
        "id": "d4TOQXOSgy2Z"
      },
      "outputs": [],
      "source": [
        "# Train agent without a reward machine\n",
        "!python scripts/train_agent.py --env=Kitchen-v2  --rm-update-algo=no_rm --seed=123 --frames=1000000 --epochs=8 --batch-size=2048 --frames-per-proc=32768 --entropy-coef=0.01 --recurrence=1 --detector-recurrence=1 --detector-epochs=8 --detector-batch-size=2048"
      ]
    },
    {
      "cell_type": "code",
      "source": [
        "# Train agent with tdm and a pretrained detector\n",
        "!python scripts/train_agent.py --env=Kitchen-v2  --rm-update-algo=tdm --seed=123 --frames=1000000 --epochs=8 --batch-size=2048 --frames-per-proc=32768 --entropy-coef=0.01 --recurrence=4 --detector-model=Kitchen-v2_tdm_pretrain_seed1/best --detector-recurrence=4 --detector-epochs=8 --detector-batch-size=2048"
      ],
      "metadata": {
        "id": "5glAsz6N2Hr-"
      },
      "execution_count": null,
      "outputs": []
    },
    {
      "cell_type": "code",
      "source": [
        "# Archive results\n",
        "!zip -r outputs.zip storage"
      ],
      "metadata": {
        "id": "yQFbyYEpp_tS"
      },
      "execution_count": null,
      "outputs": []
    }
  ]
}